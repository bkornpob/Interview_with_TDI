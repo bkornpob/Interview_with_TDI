{
 "cells": [
  {
   "cell_type": "markdown",
   "metadata": {},
   "source": [
    "# Bayesian Posterior Inference"
   ]
  },
  {
   "cell_type": "markdown",
   "metadata": {},
   "source": [
    "## Learning Objectives\n",
    "\n",
    "After this lecture, students will be able to:\n",
    "\n",
    "1. describe the difference between frequentist and bayesian inference\n",
    "\n",
    "2. describe the use of bayesian inference\n",
    "\n",
    "3. calculate conditional probability using Bayes' Rule\n",
    "\n",
    "4. derive posterior distribution\n",
    "\n",
    "5. perform hypothesis testing using Bayesian inference"
   ]
  },
  {
   "cell_type": "markdown",
   "metadata": {},
   "source": [
    "## Overview\n",
    "\n",
    "In this lecture, we explore another paradigm of statistical inference called \"Bayesian.\" While the frequentist paradigm forms the inference by applying only the properties of the dataset, the Bayesian allows additional information to be integrated into the consideration. \n",
    "\n",
    "We start this lecture by discussing the Bayes' Rule, which is the fundamental concept for Bayesian inference. Then, we demonstrate how to apply the Bayes' Rule to form the Bayesian inference with an example with a finite and discrete space. After that, we generalize the concept to cover the case of infinite and continuous space.\n",
    "\n",
    "From the infinite and continuous example, we will see that most of the times we cannot construct the Bayesian inference due to the integration problem for the normalization factor. We can only analytically solve for the Bayesian inference with a specific case that carefully chooses a functional form as we call \"conjugate prior.\" One example of the conjugate prior, and the analytic Bayesian inference, is discussed.\n",
    "\n",
    "Then, we discuss how to apply a powerful computational algorithm called Markov Chain Monte Carlo (MCMC) to construct the Bayesian inference. Bayesian/MCMC pseudocode is discussed. A code example of Bayesian/MCMC is provided. Last, we demonstrate how to perform hypothesis testing using Bayesian inference.\n",
    "\n",
    "## Prerequisites\n",
    "\n",
    "This lecture assume students to be familiar with concepts of total probability, marginal probability, joint probability, and conditional probability. Knowledge about normal distribution and how to integrate a gaussian function is necessary when discussing the infinite and continuous Bayesian inference. Knowledge about python programming is required to understand the Bayesian/MCMC code."
   ]
  },
  {
   "cell_type": "markdown",
   "metadata": {},
   "source": [
    "## Bayes' Rule\n",
    "\n",
    "$$\n",
    "P(A|B) = \\frac{P(A \\cap B)}{P(B)}\n",
    "$$\n",
    "\n",
    "Bayes' Rule, as shown above, explains how the probability of observing an event A is updated by additional information B. For example, we have two boxes with balls. Box X has 8 red, and 2 white. The other Box Y has 5 red, and 5 white balls. We randomly pick one ball from an unknown box, and see it is a red. Then, we ask how much probability that we drew the red ball from Box X, i.e., P(X|red). \n",
    "\n",
    "Before the draw, we have 0.5 chance for drawing from any box, i.e., P(X) = P(Y) = 0.5. Once we draw a red, this probability changes. By intuition, we know that P(X|red) > 0.5 and P(Y|red) < 0.5 with 1 = P(X|red) + P(Y|red). And, if we think a bit deeper, we know that P(X|red) = 8/13 and P(Y|red) = 5/13, because we apply the only information we have (which is drawing a red ball) to form this probability. To be more precise, we know that we have 13 red balls in total: 8 balls in Box X and 5 balls in Box Y. This is exactly how Bayes' Rule works."
   ]
  },
  {
   "cell_type": "markdown",
   "metadata": {},
   "source": [
    "To be mathematically precise, we will try to derive the result by using the Bayes' Rule. We start with writing the rule out\n",
    "\n",
    "$$\n",
    "P(X|red) = \\frac{P(X \\cap red)}{P(red)}\n",
    "$$\n",
    "\n",
    "It would a lot easier if we were asked to find P(red|X), because we know P(red|X) = 8/10. Well, we can actually start from here because Bayes' Rule can also be expressed as\n",
    "\n",
    "$$\n",
    "P(A \\cap B) = P(A|B)P(B) = P(B|A)P(A)\n",
    "$$\n",
    "\n",
    "This identity is a direct result from the symmetry of a joint probability, i.e., $P(A \\cap B) = P(B \\cap A)$. So, we can find $P(X|red) = P(red|X)P(X) / P(red) = 0.8 \\times 0.5 / (13/20) = 8/13$. Walla! (Note that this calculation looks simple also because P(X) = P(Y), which will be relaxed in a later example). This Bayes' trick, as we would call, is the ground for understanding the Bayesian inference in this lecture. To summarize the Bayes' trick\n",
    "\n",
    "$$\n",
    "P(A|B) = \\frac{P(B|A)P(A)}{P(B)}\n",
    "$$"
   ]
  },
  {
   "cell_type": "markdown",
   "metadata": {},
   "source": [
    "## Likelihood, Prior, Posterior, and Normalization\n",
    "\n",
    "In this section, we introduce four technical names used in Bayesian inference. Associated with the previous example about boxes and balls, we would like to know the updated probability P(X|red) given additional information drawing red. Also, recall the Bayes' trick formula. We call the four terms in the Bayes' trick: likelihood, prior, posterior, and normalization.\n",
    "\n",
    "Posterior, as the name implied, is the updated probability P(X|red) that we would like to know after integrating additional information (drawing red) into consideration. Prior is the initial probability before acquiring additional information, i.e., P(X) = 0.5. Likelihood P(red|X) connects how the additional information provides the benefits of knowledge. And, the normalization at the denominator P(B), we can think of it as to normalize the scale back to the probability to be unity, i.e.,\n",
    "$\\sum_{\\forall i} P(A_i | B) = 1$."
   ]
  },
  {
   "cell_type": "markdown",
   "metadata": {},
   "source": [
    "# Normalization: The Nuisance Parameter\n",
    "\n",
    "Typically, we adopt Bayesian approach when we have $A$ as the result of our interests, while $B$ as the information we have. Becasue of this, the posterior would be affected mainly by the two terms associated with $A$: the likelihood and prior. We can consider the normalization as a constant, that calibrates the total posterior to be unity as required in the probability scale. However, this constant is the nuisance parameter that is not actually in our interests, but can prevent us from finding an analytic solution of the problem in a simple manner.\n",
    "\n",
    "To show this, we get back to the previous boxes and balls example. In the previous setting of the example, we can calculate the posterior easily because $P(X) = P(Y) = 0.5$, which makes the normalization $P(red) = \\frac{13}{20}$ as the number of reds in X divided by the total of reds.\n",
    "\n",
    "Let's consider a new situation. The process starts with a box either X or Y randomly chosen with $P(X) = 0.3$. We do not know exactly which box was chosen, but we know the probability $P(X)$. We draw one ball from the chosen box to see its color (let's make it red again), and want to know $P(X|red)$.\n",
    "\n",
    "It is straightforwardly the same as the previous example that the likelihood $P(red|X) = 0.8$ and the prior $P(X) = 0.3$, but in the new example $P(red) \\neq \\frac{13}{20}$. To understand this, we invoke the total probability identity\n",
    "\n",
    "$$\n",
    "P(\\alpha) = \\sum_{\\forall i} P(\\alpha | \\beta_i) P(\\beta_i)\n",
    "$$\n",
    "\n",
    "The meaning of the expression is that the total probability of observing the event $\\alpha$ is composed of each individual probability of observing the event given a condition $\\beta_i$, $P(\\alpha | \\beta_i)$. And, we sum each individual probability because they are mutually exclusive. \n",
    "\n",
    "To make it in the context of our new example, \n",
    "\n",
    "$$\n",
    "P(red) = P(red | X) P(X) + P(red | Y) P(Y) = 0.8 \\times 0.3 + 0.5 \\times 0.7 = 0.59\n",
    "$$\n",
    "\n",
    "Therefore, $P(X | red) = 0.41$.\n",
    "\n",
    "Note that, we still can compute the numerical result of this new example becasue of the simplicity of finite discrete conditions $\\beta_i$. In general, if the condition is continuous in an interval [a,b] (which can be infinity),\n",
    "\n",
    "$$\n",
    "P(\\alpha) = \\int_{a}^{b} P(\\alpha | \\beta) P(\\beta) d\\beta\n",
    "$$\n",
    "\n",
    "It is because of this integration, in a complex situation we typically cannot find a closed form of this integration, which prevents us from finding the solution."
   ]
  },
  {
   "cell_type": "markdown",
   "metadata": {},
   "source": [
    "# Analytic Posterior by Choosing Conjugate Prior\n",
    "\n",
    "There is a way to find an analytic Bayesian solution by selecting the likelihood and prior functional forms that can be integrated analytically. Since the likelihood generally comes from underlying models or theories, this leaves us only the freedom to choose a suitable prior, which is called \"conjugate prior\" of the likelihood. \n",
    "\n",
    "In this section, we will go through one example of the conjugate prior. Let's say we know that a continuous random variable $x$ (extending to infinity) is identically and independently drawn from a $x \\sim N(\\theta,\\sigma^2)$ such that $\\theta$ is unknown but $\\sigma$ is known. Our intention is to observe one $x = X$, and characterize the posterior $P(\\theta | X)$.\n",
    "\n",
    "Recall the normal distribution. For this example, we can express the likelihood as\n",
    "\n",
    "$$\n",
    "P(X | \\theta) = \\frac{1}{\\sqrt{2 \\pi \\sigma^2}} \\exp \\left[-\\frac{(x - \\theta)^2}{2 \\sigma^2} \\right]\n",
    "$$\n",
    "\n",
    "In this example, our only unknown is $\\theta$. We would like to select a conjugate prior $P(\\theta)$ that will give us $\\int_{-\\infty}^{\\infty} P(X | \\theta) P(\\theta) d\\theta$ integrable. One possible conjugate is alsoa gaussian function itself. To show this, we choose the prior $P(\\theta)$ such that $\\theta \\sim N(\\mu_0,\\sigma_{0}^2)$. (Note that both $\\mu_0$ and $\\sigma_{0}$ are known because this is prior). This will be left as an exercise to show that\n",
    "\n",
    "$$\n",
    "P(X | \\theta) P(\\theta) = \\exp \\left[ -\\frac{(\\theta - \\mu_1)^2}{2 \\sigma_{1}^2} \\right]\n",
    "$$\n",
    "\n",
    "By applying $\\int_{-\\infty}^{\\infty} \\exp[ -x^2 ] dx = \\sqrt{\\pi}$, we get $\\int_{-\\infty}^{\\infty} P(X | \\theta) P(\\theta) d\\theta = \\sqrt{2 \\pi \\sigma_{1}^2}$. Therefore, the posterior $P(\\theta | X)$ is also a normal distribution with mean $\\mu_1$ and variance $\\sigma_{1}^2$ where\n",
    "\n",
    "$$\n",
    "\\mu_1 = \\sigma_{1}^2 \\left( \\frac{X}{\\sigma^2} + \\frac{\\mu_0}{\\sigma_{0}^2} \\right)\n",
    "$$\n",
    "\n",
    "$$\n",
    "\\sigma_{1}^2 = \\left( \\frac{1}{\\sigma^2} + \\frac{1}{\\sigma_{0}^2} \\right)^{-1}\n",
    "$$"
   ]
  },
  {
   "cell_type": "markdown",
   "metadata": {},
   "source": [
    "# Bayesian Posterior by Markov Chain Monte Carlo\n",
    "\n",
    "As we can see from the previous section that it is not always possible to find an analytic Bayesian posterior if we cannot find a conjugate prior of a given likelihood. Moreover, in practice we most likely prefer a certain functional form or property of prior regarding to other information such as theories or results from previous research. Therefore, we actually do not have much of the freedom to choose any prior, and the Bayesian posterior cannot be expressed in a closed form.\n",
    "\n",
    "Fortunately, the Markov Chain Monte Carlo (MCMC) simulation is a method that can help us computationally characterize the posterior. Without getting into details, the pseudocode for the Bayesian/MCMC is as following:\n",
    "\n",
    "0. Collect the data $X$\n",
    "\n",
    "1. Set up a prior $P(\\theta)$, and likelihood $P(X|\\theta)$.\n",
    "\n",
    "2. Initialize the parameter $\\theta = \\theta_0$.\n",
    "\n",
    "3. Propose a new $\\theta = \\theta_1$ with a given rule $q(\\theta_1 | \\theta_0)$ (which will be discussed later)\n",
    "\n",
    "4. Compute $$\n",
    "\\alpha = \\frac{P(X|\\theta_1)P(\\theta_1) / q(\\theta_1 | \\theta_0)}{P(X|\\theta_0)P(\\theta_0) / q(\\theta_0 | \\theta_1)}\n",
    "$$\n",
    "\n",
    "5. Determine whether to accept $\\theta_1$ with the acceptance rate $\\alpha$\n",
    "\n",
    "6. If accept, record $\\theta_1$ and set $\\theta_0 = \\theta_1$. If not, record $\\theta_0$ and leave $\\theta_0 = \\theta_0$\n",
    "\n",
    "7. Repeat steps 3 -- 6 until we get a satisfied result (which will be discussed later)\n",
    "\n",
    "8. Discard some early iterations before the convergence of $\\theta$ (which will be discussed later)\n",
    "\n",
    "9. The leftover array of $\\theta$ represents the posterior, which can be visualized by a histogram\n",
    "\n",
    "Note: step 3 -- 6 is called \"Metropolis-Hastings\" algorithm, which is a MCMC random sampling algorithm for one unknown posterior parameter. If the problem has more than one unknown posterior parameters, a better MCMC sampling algorithm than the Metropolis is called \"Gibbs sampling.\"\n",
    "\n",
    "## Rule for proposing a new  position $q(\\theta_1 | \\theta_0)$\n",
    "\n",
    "This step is the core of MCMC. The idea of MCMC is to perform a random move to a new position from the current position. In our case, the current position is $\\theta_0$, and we want to move to a new position $\\theta_1$. There are several ways to determine where to move as long as the move is random with a given rule $q(\\theta_1 | \\theta_0)$. For example, we might propose the move with a distance $\\epsilon \\sim N(0,1)$ such that $\\theta_1 = \\theta_0 + \\epsilon$. Therefore, $q(\\theta_1 | \\theta_0) \\sim N(\\theta_0,1)$ in this case. \n",
    "\n",
    "Since a new position is practically drawn from a symmetric function such that $q(\\theta_1 | \\theta_0) = q(\\theta_0 | \\theta_1)$ (e.g., the normal distribution), the two $q$ terms in the $\\alpha$ are cancelled out. Therefore, the acceptance rate $\\alpha$ is the odd ratio between the posterior probability at the new position relative to at the current one, which is more intuitive than when having to consider the two $q$ terms. In the following discussion, we will apply a symmetric rule so that we can discard the impacts of $q$ safely. However, it is worth to keep in mind that the $q$ terms must be taken into account when the symmetry is broken. Intuitively, the term $q$ makes the probability like $P(X|\\theta_1)P(\\theta_1) / q(\\theta_1 | \\theta_0)$ represent an effective probability of the posterior probability. \n",
    "\n",
    "## When to stop the iteration?\n",
    "\n",
    "MCMC is an iterative simulation, therefore we have to know when to stop. In this case, let's imagine that the initial $\\theta_0$ is a value which is very far away from the \"perfect\" $\\theta$. In each iteration, $\\theta$ should effectively move closer to the perfect value. Then, $\\theta$ will converge to the perfect value, but fluctuate slightly around due to the random walk in each iteration. \n",
    "\n",
    "As mentioned in step 8, we discard some early iteration before the convergence of $\\theta$. There are no best method to determine when the Markov Chain converges. Typically, the chain plot, and potential scale reduction factor (a.k.a. PSRF) are computed to determine the likelihood of having a converge chain. In the following example, only the chain plot will be introduced.\n",
    "\n",
    "After, we identify when the chain starts to converge, we continue the iteration and keep recording all the $\\theta$s afterwards. The more iterations we run after the convergence, the better estimate of the posterior is. Therefore, we actually stop when we think that the computed posterior would be accurate enough for the analysis."
   ]
  },
  {
   "cell_type": "markdown",
   "metadata": {},
   "source": [
    "# Code Example of Bayesian/MCMC\n",
    "\n",
    "In this section, a simple Bayesian/MCMC code is presented. We are trying to solve the same problem as presented with the normal-distributed likelihood and normal-distributed conjugate prior, so that we can compare the final result with the analytic solution. Note also that we consider only the case of having only one observation, and we work with a log scale to prevent the computational crash due to a very large/small number due to the exponential function."
   ]
  },
  {
   "cell_type": "code",
   "execution_count": 1,
   "metadata": {},
   "outputs": [],
   "source": [
    "import numpy as np\n",
    "import matplotlib.pyplot as plt\n",
    "import pandas as pd\n",
    "\n",
    "np.random.seed(1234) # set the random state\n",
    "\n",
    "def log_gauss(x, mu, sig):\n",
    "    a = np.sqrt(2 * 3.14 * sig**2)\n",
    "    b = -1. * (x - mu)**2 / (2. * sig**2)\n",
    "    return b - np.log(a)\n",
    "\n",
    "def rule_newPosition(mu,sig):\n",
    "    return np.random.normal(mu,sig)\n",
    "\n",
    "def post_params(x, sigma, mu0, sigma0):\n",
    "    sigma1 = np.sqrt((sigma**-2 + sigma0**-2)**-1)\n",
    "    mu1 = (sigma1**2) * (x/sigma**2 + mu0/sigma0**2)\n",
    "    return (mu1,sigma1)"
   ]
  },
  {
   "cell_type": "code",
   "execution_count": 2,
   "metadata": {},
   "outputs": [
    {
     "data": {
      "image/png": "[encoded data removed]",
      "text/plain": [
       "<Figure size 432x288 with 1 Axes>"
      ]
     },
     "metadata": {
      "needs_background": "light"
     },
     "output_type": "display_data"
    },
    {
     "data": {
      "image/png": "[encoded data removed]",
      "text/plain": [
       "<Figure size 432x288 with 1 Axes>"
      ]
     },
     "metadata": {
      "needs_background": "light"
     },
     "output_type": "display_data"
    },
    {
     "name": "stdout",
     "output_type": "stream",
     "text": [
      "Result from the simulation:\n",
      "count    99000.000000\n",
      "mean        19.617536\n",
      "std          0.982833\n",
      "min         15.096871\n",
      "25%         18.947265\n",
      "50%         19.625415\n",
      "75%         20.289686\n",
      "max         23.851541\n",
      "dtype: float64\n",
      "\n",
      "Analytic $\\mu_1$ = 19.615, $\\sigma_1$ = 0.981\n"
     ]
    }
   ],
   "source": [
    "record = [] # for recording\n",
    "iter = 100000 # number of iterations\n",
    "\n",
    "# 0. Collect the data $X$\n",
    "X = 10.\n",
    "\n",
    "# 1. Set up a prior $P(\\theta)$, and likelihood $P(X|\\theta)$.\n",
    "theta0,sigma = None,5. # likelihood\n",
    "mu0,sigma0 = 20.,1. # prior\n",
    "\n",
    "# 2. Initialize the parameter $\\theta = \\theta_0$.\n",
    "theta0 = 0.\n",
    "\n",
    "for i in np.arange(iter):\n",
    "    # 3. Propose a new $\\theta = \\theta_1$ with a given rule $q(\\theta_1 | \\theta_0)$ (which will be discussed later)\n",
    "    theta1 = theta0 + rule_newPosition(0.,5.)\n",
    "\n",
    "    # 4. Compute $$\n",
    "    # \\alpha = \\frac{P(X|\\theta_1)P(\\theta_1) / q(\\theta_1 | \\theta_0)}{P(X|\\theta_0)P(\\theta_0) / q(\\theta_0 | \\theta_1)}\n",
    "    # $$\n",
    "    a = log_gauss(X,theta1,sigma) + log_gauss(theta1,mu0,sigma0)\n",
    "    b = log_gauss(X,theta0,sigma) + log_gauss(theta0,mu0,sigma0)\n",
    "    log_alpha = a - b\n",
    "    alpha = np.exp(log_alpha)\n",
    "\n",
    "    # 5. Determine whether to accept $\\theta_1$ with the acceptance rate $\\alpha$\n",
    "    c = np.random.uniform()\n",
    "    if c < alpha:\n",
    "        accept = True\n",
    "    else:\n",
    "        accept = False\n",
    "\n",
    "    # 6. If accept, record $\\theta_1$ and set $\\theta_0 = \\theta_1$. If not, record $\\theta_0$ and leave $\\theta_0 = \\theta_0$\n",
    "    if accept:\n",
    "        theta0 = theta1\n",
    "    record.append(theta0)\n",
    "\n",
    "    # 7. Repeat steps 3 -- 6 until we get a satisfied result (which will be discussed later)\n",
    "\n",
    "# 8. Discard some early iterations before the convergence of $\\theta$ (which will be discussed later)\n",
    "plt.figure()\n",
    "plt.plot(record)\n",
    "plt.show()\n",
    "record = record[1000:]\n",
    "\n",
    "# 9. The leftover array of $\\theta$ represents the posterior, which can be visualized by a histogram\n",
    "plt.figure()\n",
    "plt.hist(record,density=True)\n",
    "plt.show()\n",
    "\n",
    "print('Result from the simulation:')\n",
    "print(pd.Series(record).describe())\n",
    "\n",
    "a = post_params(X,sigma,mu0,sigma0)\n",
    "print('\\nAnalytic $\\mu_1$ = {0:.3f}, $\\sigma_1$ = {1:.3f}'.format(a[0],a[1]))"
   ]
  },
  {
   "cell_type": "markdown",
   "metadata": {},
   "source": [
    "As we can see, the first plot is the chain plot showing some early moves that were trying to converge to the solution, and we discarded that section as shown in step 8. Also, the final result from the simulation (mean, std) is approximately the same as we expect from the analytic solution ($\\mu_1$, $\\sigma_1$)."
   ]
  },
  {
   "cell_type": "markdown",
   "metadata": {},
   "source": [
    "# Hypothesis Testing\n",
    "\n",
    "In this last section, we discuss how to perform a hypothesis testing using Bayesian inference. We continue this discussion with by simulated result of recorded $\\theta$ from the previous section.\n",
    "\n",
    "We start with setting up a hypothesis. Let's say, we would like to know whether $\\theta$ is indifference to 19.\n",
    "$$\n",
    "H_0: \\theta = 19\n",
    "$$\n",
    "$$\n",
    "H_1: \\theta \\neq 19\n",
    "$$\n",
    "\n",
    "Next, since we already have the distribution (i.e., the histogram), we can proceed by choosing the significance level. Let's take the significance level $\\alpha = 0.05$.\n",
    "\n",
    "Then, we can either proceed by constructing a confidence interval (CI) around the recorded mean {{'{0:.3f}'.format(pd.Series(record).mean())}}, or find the critical values to contruct the rejection regions. We continue with constructing the rejection regions, which is less complicated than the other method.\n",
    "\n",
    "Since our hypothesis is 2-tailed, we would like to find the critical values on the left and right ($\\theta_{crit,L},\\theta_{crit,R})$ that makes $P(\\theta \\leq \\theta_{crit,L}) = P(\\theta > \\theta_{crit,R}) = 0.025$, where we will reject the null hypothesis if 19 is inside these regions. We find the values by using the function describe() in pandas."
   ]
  },
  {
   "cell_type": "code",
   "execution_count": 3,
   "metadata": {},
   "outputs": [
    {
     "data": {
      "text/plain": [
       "count    99000.000000\n",
       "mean        19.617536\n",
       "std          0.982833\n",
       "min         15.096871\n",
       "2.5%        17.688489\n",
       "50%         19.625415\n",
       "97.5%       21.511654\n",
       "max         23.851541\n",
       "dtype: float64"
      ]
     },
     "execution_count": 3,
     "metadata": {},
     "output_type": "execute_result"
    }
   ],
   "source": [
    "pd.Series(record).describe(percentiles=[0.025,1-0.025])"
   ]
  },
  {
   "cell_type": "markdown",
   "metadata": {},
   "source": [
    "Therefore, we have $\\theta_{crit,L} = 17.69$ and $\\theta_{crit,R} = 21.51$. Since 19 is not inside the rejection regions, we conclude that \"we fail to reject the null hypothesis at 0.05 significance level.\""
   ]
  },
  {
   "cell_type": "markdown",
   "metadata": {},
   "source": [
    "# Summary\n",
    "\n",
    "We discuss the Bayesian posterior inference in this lecture. The Bayesian inference is different to the frequentist one in particularly that the Bayesian inference allows extra information, other than the properties of the sample, to be integrated as the prior when forming the posterior. The extra information is assumed to be dependent to the event of interests connected by the likelihood. \n",
    "\n",
    "To construct the Bayesian posterior inference, three components are required: likelihood, prior, and normalization. Even though the normalization does not directly affect the posterior, this component is necessary in order to completely construct the inference. However, because the term involves with an integration, only a carefully chosen conjugate prior can result in a closed-form analytic solution. In general, the term cannot be integrated, and Bayesian/MCMC is the computational method that helps us constructing the inference computationally. The pseudocode, and a code example of Bayesian/MCMC."
   ]
  }
 ],
 "metadata": {
  "kernelspec": {
   "display_name": "Python 3",
   "language": "python",
   "name": "python3"
  },
  "language_info": {
   "codemirror_mode": {
    "name": "ipython",
    "version": 3
   },
   "file_extension": ".py",
   "mimetype": "text/x-python",
   "name": "python",
   "nbconvert_exporter": "python",
   "pygments_lexer": "ipython3",
   "version": "3.6.8"
  }
 },
 "nbformat": 4,
 "nbformat_minor": 2
}
